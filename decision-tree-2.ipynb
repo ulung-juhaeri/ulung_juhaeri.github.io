{
 "cells": [
  {
   "cell_type": "code",
   "execution_count": 1,
   "metadata": {},
   "outputs": [],
   "source": [
    "\n",
    "from sklearn import tree\n",
    "\n",
    "#datasets\n",
    "#outlook = 0 is sunny, 1 is overcast, 2 is rainy\n",
    "#temperature = 0 is hot, 1 is mild, 2 is cool\n",
    "#humidity = 0 is high, 1 is normal\n",
    "#isWindy? 0 false : 1 true\n",
    "#outlook            #temperature        #humidity       #windy\n",
    "x = [\n",
    "    [0,                 0,                  0,              0],\n",
    "    [0,                 0,                  0,              1],\n",
    "    [1,                 0,                  0,              0],\n",
    "    [2,                 1,                  0,              0],\n",
    "    [2,                 2,                  1,              0],\n",
    "    [2,                 2,                  1,              1],\n",
    "    [1,                 2,                  1,              1],\n",
    "    [0,                 1,                  0,              0],\n",
    "    [0,                 2,                  1,              0],\n",
    "    [2,                 1,                  1,              0],\n",
    "    [0,                 1,                  1,              1],\n",
    "    [1,                 1,                  0,              1],\n",
    "    [1,                 0,                  1,              0],\n",
    "    [2,                 1,                  0,              1]\n",
    "]\n",
    "y = [0, 0, 1, 1, 1, 0, 1, 0, 1,1,1,1,1,0]\n",
    "clf = tree.DecisionTreeClassifier()\n",
    "clf = clf.fit(x, y)\n",
    "\n",
    "\n",
    "def prog() :\n",
    "    outlook = int(input(\"Outlook? (0 is sunny, 1 overcast, 2 rainy) : \"))\n",
    "    humidity = int(input(\"Temperature? (0 is hot, 1 is mild, 2 is cool) : \"))\n",
    "    temp = int(input(\"Humidty? (0 is high, 1 is normal) : \"))\n",
    "    isWindy = int(input(\"Is Windy? 0 false, 1 true : \" ))\n",
    "\n",
    "    if clf.predict([[outlook, humidity, temp, isWindy]]):\n",
    "        print(\"\\nSaya akan berangkat golf\")\n",
    "    else:\n",
    "        print(\"\\nMales golf\")\n",
    "\n",
    "\n",
    "prog()"
   ]
  },
  {
   "cell_type": "code",
   "execution_count": null,
   "metadata": {},
   "outputs": [],
   "source": []
  },
  {
   "cell_type": "code",
   "execution_count": null,
   "metadata": {},
   "outputs": [],
   "source": []
  }
 ],
 "metadata": {
  "kernelspec": {
   "display_name": "Python 2",
   "language": "python",
   "name": "python2"
  },
  "language_info": {
   "codemirror_mode": {
    "name": "ipython",
    "version": 2
   },
   "file_extension": ".py",
   "mimetype": "text/x-python",
   "name": "python",
   "nbconvert_exporter": "python",
   "pygments_lexer": "ipython2",
   "version": "2.7.18"
  }
 },
 "nbformat": 4,
 "nbformat_minor": 2
}
